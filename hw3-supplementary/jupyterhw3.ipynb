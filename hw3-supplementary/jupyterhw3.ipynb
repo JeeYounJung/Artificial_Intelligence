{
 "cells": [
  {
   "cell_type": "code",
   "execution_count": 1,
   "metadata": {},
   "outputs": [],
   "source": [
    "from scipy.linalg import eigh\n",
    "import numpy as np\n",
    "import matplotlib.pyplot as plt"
   ]
  },
  {
   "cell_type": "markdown",
   "metadata": {},
   "source": [
    "# 5.1"
   ]
  },
  {
   "cell_type": "code",
   "execution_count": 2,
   "metadata": {},
   "outputs": [],
   "source": [
    "def load_and_center_dataset(filename):\n",
    "    data = np.load(filename)\n",
    "    data = data - np.mean(data, axis=0)\n",
    "    return data"
   ]
  },
  {
   "cell_type": "code",
   "execution_count": 3,
   "metadata": {},
   "outputs": [
    {
     "data": {
      "text/plain": [
       "-8.315174931741023e-17"
      ]
     },
     "execution_count": 3,
     "metadata": {},
     "output_type": "execute_result"
    }
   ],
   "source": [
    "x = load_and_center_dataset('YaleB_32x32.npy')\n",
    "np.average(x)"
   ]
  },
  {
   "cell_type": "markdown",
   "metadata": {},
   "source": [
    "# 5.2"
   ]
  },
  {
   "cell_type": "code",
   "execution_count": 4,
   "metadata": {},
   "outputs": [],
   "source": [
    "def get_covariance(dataset):\n",
    "    return (1/(len(dataset) -1)) *np.dot(np.transpose(dataset), dataset)"
   ]
  },
  {
   "cell_type": "code",
   "execution_count": 5,
   "metadata": {},
   "outputs": [
    {
     "data": {
      "text/plain": [
       "array([[10, 14, 26],\n",
       "       [14, 20, 38],\n",
       "       [26, 38, 74]])"
      ]
     },
     "execution_count": 5,
     "metadata": {},
     "output_type": "execute_result"
    }
   ],
   "source": [
    "x = np.array([[1,2,5],[3,4,7]])\n",
    "np.transpose(x)\n",
    "np.dot(x, np.transpose(x))\n",
    "np.dot(np.transpose(x), x)"
   ]
  },
  {
   "cell_type": "markdown",
   "metadata": {},
   "source": [
    "# 5.3"
   ]
  },
  {
   "cell_type": "code",
   "execution_count": 6,
   "metadata": {},
   "outputs": [],
   "source": [
    "def multi_return ():\n",
    "    return \" a string \" , 5\n",
    "my_string , my_int = multi_return ()"
   ]
  },
  {
   "cell_type": "code",
   "execution_count": 7,
   "metadata": {},
   "outputs": [],
   "source": [
    "def get_eig(S, m):\n",
    "    #eigh <- 고유값과 고유벡터를 계산하기 위해 사용 (오름차순으로 반환하며, 대칭 행렬의 경우에는 특히 유용)\n",
    "    eigenvalues, eigenvectors = eigh(S,subset_by_index = [len(S) - m, len(S) - 1]) #[len(S) - m, len(S) - 1(인덱스라 한개빼줘야 맨 마지막 값)] = largest eigenvalue (m개)\n",
    "    #get the eigenvalues in decreasing order\n",
    "    eigenvalues = np.flip(eigenvalues) #np.flip() -> 배열을 역순으로 정리\n",
    "    eigenvalues = np.diag(eigenvalues) #np.diag() ->  k번째 열부터 있는 대각선의 값들을 1차원 array로 반환\n",
    "    eigenvectors = np.fliplr(eigenvectors) #np.fliplr() -> 배열을 좌우반전으로 정리\n",
    "    return eigenvalues, eigenvectors"
   ]
  },
  {
   "cell_type": "code",
   "execution_count": 8,
   "metadata": {},
   "outputs": [
    {
     "name": "stdout",
     "output_type": "stream",
     "text": [
      "[[102.99019514   0.        ]\n",
      " [  0.           1.00980486]]\n",
      "[[-0.30262801  0.74984161]\n",
      " [-0.43852901  0.43852901]\n",
      " [-0.846232   -0.49540879]]\n"
     ]
    }
   ],
   "source": [
    "S = get_covariance(x)\n",
    "Lambda, U = get_eig(S, 2)\n",
    "print(Lambda)\n",
    "print(U)"
   ]
  },
  {
   "cell_type": "markdown",
   "metadata": {},
   "source": [
    "# 5.4"
   ]
  },
  {
   "cell_type": "code",
   "execution_count": 10,
   "metadata": {},
   "outputs": [],
   "source": [
    "def get_eig_prop(S, prop):\n",
    "    #eigh <- 고유값과 고유벡터를 계산하기 위해 사용 (오름차순으로 반환하며, 대칭 행렬의 경우에는 특히 유용)\n",
    "    eigenvalues, eigenvectors = eigh(S)\n",
    "    for i in range(len(eigenvalues)):\n",
    "        if eigenvalues[i]/sum(eigenvalues) > prop:\n",
    "            m = i\n",
    "            break\n",
    "    eigenvalues, eigenvectors = eigh(S, subset_by_index = [m, len(S)-1])\n",
    "    eigenvalues = np.flip(eigenvalues) #np.flip() -> 배열을 역순으로 정리\n",
    "    eigenvalues = np.diag(eigenvalues) #np.diag() ->  k번째 열부터 있는 대각선의 값들을 1차원 array로 반환\n",
    "    eigenvectors = np.fliplr(eigenvectors) #np.fliplr() -> 배열을 좌우반전으로 정리\n",
    "    return eigenvalues, eigenvectors"
   ]
  },
  {
   "cell_type": "code",
   "execution_count": 11,
   "metadata": {},
   "outputs": [
    {
     "name": "stdout",
     "output_type": "stream",
     "text": [
      "[[102.99019514]]\n",
      "[[-0.30262801]\n",
      " [-0.43852901]\n",
      " [-0.846232  ]]\n"
     ]
    }
   ],
   "source": [
    "Lambda, U = get_eig_prop(S, 0.07)\n",
    "print(Lambda)\n",
    "print(U)"
   ]
  },
  {
   "cell_type": "markdown",
   "metadata": {},
   "source": [
    "# 5.5"
   ]
  },
  {
   "cell_type": "code",
   "execution_count": 12,
   "metadata": {},
   "outputs": [],
   "source": [
    "def project_image(image, U):\n",
    "    transpose = np.transpose(U)\n",
    "    ans = np.empty(0)\n",
    "    for i in range(len(U)):\n",
    "        projection = np.dot(np.dot(transpose, image),U[i])\n",
    "        ans = np.append(ans, projection)\n",
    "    return ans\n",
    "    "
   ]
  },
  {
   "cell_type": "code",
   "execution_count": 13,
   "metadata": {},
   "outputs": [
    {
     "name": "stdout",
     "output_type": "stream",
     "text": [
      "[1.63747358 2.37281295 4.57883103]\n"
     ]
    }
   ],
   "source": [
    "projection = project_image(x[0], U)\n",
    "print(projection)"
   ]
  },
  {
   "cell_type": "markdown",
   "metadata": {},
   "source": [
    "# 5.6"
   ]
  },
  {
   "cell_type": "code",
   "execution_count": 21,
   "metadata": {},
   "outputs": [],
   "source": [
    "def display_image(orig, proj):\n",
    "    #Reshape the images to be 32 × 32\n",
    "    orig = np.rot90(np.reshape(orig,(32,32)), axes = (1, 0))\n",
    "    proj = np.rot90(np.reshape(proj,(32,32)), axes = (1, 0))\n",
    "    fig, (ax1, ax2) = plt.subplots(figsize=(9, 3), ncols=2)\n",
    "    ax1.set_title(\"Original\")\n",
    "    ax2.set_title(\"Projection\")\n",
    "    show1 = ax1.imshow(orig,aspect = 'equal')\n",
    "    show2 = ax2.imshow(proj,aspect = 'equal')\n",
    "    fig.colorbar(show1, ax=ax1)\n",
    "    fig.colorbar(show2, ax=ax2)\n",
    "    plt.show()\n",
    "    return fig, ax1, ax2"
   ]
  },
  {
   "cell_type": "code",
   "execution_count": 22,
   "metadata": {},
   "outputs": [
    {
     "data": {
      "image/png": "[encoded data removed]",
      "text/plain": [
       "<Figure size 900x300 with 4 Axes>"
      ]
     },
     "metadata": {},
     "output_type": "display_data"
    },
    {
     "ename": "ValueError",
     "evalue": "too many values to unpack (expected 2)",
     "output_type": "error",
     "traceback": [
      "\u001b[0;31m---------------------------------------------------------------------------\u001b[0m",
      "\u001b[0;31mValueError\u001b[0m                                Traceback (most recent call last)",
      "Cell \u001b[0;32mIn[22], line 5\u001b[0m\n\u001b[1;32m      3\u001b[0m Lambda, U \u001b[39m=\u001b[39m get_eig(S, \u001b[39m2\u001b[39m)\n\u001b[1;32m      4\u001b[0m projection \u001b[39m=\u001b[39m project_image(x[\u001b[39m0\u001b[39m], U)\n\u001b[0;32m----> 5\u001b[0m fig, (ax1, ax2) \u001b[39m=\u001b[39m display_image(x[\u001b[39m0\u001b[39m], projection)\n\u001b[1;32m      6\u001b[0m plt\u001b[39m.\u001b[39mshow()\n",
      "\u001b[0;31mValueError\u001b[0m: too many values to unpack (expected 2)"
     ]
    }
   ],
   "source": [
    "x = load_and_center_dataset('YaleB_32x32.npy')\n",
    "S = get_covariance(x)\n",
    "Lambda, U = get_eig(S, 2)\n",
    "projection = project_image(x[0], U)\n",
    "fig, (ax1, ax2) = display_image(x[0], projection)\n",
    "plt.show()"
   ]
  }
 ],
 "metadata": {
  "kernelspec": {
   "display_name": "Python 3",
   "language": "python",
   "name": "python3"
  },
  "language_info": {
   "codemirror_mode": {
    "name": "ipython",
    "version": 3
   },
   "file_extension": ".py",
   "mimetype": "text/x-python",
   "name": "python",
   "nbconvert_exporter": "python",
   "pygments_lexer": "ipython3",
   "version": "3.9.6"
  },
  "orig_nbformat": 4
 },
 "nbformat": 4,
 "nbformat_minor": 2
}
