{
 "cells": [
  {
   "cell_type": "code",
   "execution_count": 141,
   "metadata": {},
   "outputs": [],
   "source": [
    "import sys\n",
    "import math\n",
    "import string\n"
   ]
  },
  {
   "cell_type": "code",
   "execution_count": 142,
   "metadata": {},
   "outputs": [],
   "source": [
    "def get_parameter_vectors():\n",
    "    '''\n",
    "    This function parses e.txt and s.txt to get the  26-dimensional multinomial\n",
    "    parameter vector (characters probabilities of English and Spanish) as\n",
    "    descibed in section 1.2 of the writeup\n",
    "\n",
    "    Returns: tuple of vectors e and s\n",
    "    '''\n",
    "    #Implementing vectors e,s as lists (arrays) of length 26\n",
    "    #with p[0] being the probability of 'A' and so on\n",
    "    e=[0]*26\n",
    "    s=[0]*26\n",
    "\n",
    "    with open('e.txt',encoding='utf-8') as f:\n",
    "        for line in f:\n",
    "            #strip: removes the newline character\n",
    "            #split: split the string on space character\n",
    "            char,prob=line.strip().split(\" \")\n",
    "            #ord('E') gives the ASCII (integer) value of character 'E'\n",
    "            #we then subtract it from 'A' to give array index\n",
    "            #This way 'A' gets index 0 and 'Z' gets index 25.\n",
    "            e[ord(char)-ord('A')]=float(prob)\n",
    "    f.close()\n",
    "\n",
    "    with open('s.txt',encoding='utf-8') as f:\n",
    "        for line in f:\n",
    "            char,prob=line.strip().split(\" \")\n",
    "            s[ord(char)-ord('A')]=float(prob)\n",
    "    f.close()\n",
    "\n",
    "    return (e,s)"
   ]
  },
  {
   "cell_type": "code",
   "execution_count": 143,
   "metadata": {},
   "outputs": [],
   "source": [
    "def shred(filename):\n",
    "    #Using a dictionary here. You may change this to any data structure of\n",
    "    #your choice such as lists (X=[]) etc. for the assignment\n",
    "    X=dict.fromkeys(string.ascii_uppercase, 0)\n",
    "    with open (filename,encoding='utf-8') as f:\n",
    "        readf = f.read()\n",
    "        for i in readf:\n",
    "            if i.upper() in X:\n",
    "                X[i.upper()] += 1\n",
    "\n",
    "\n",
    "    return X"
   ]
  },
  {
   "cell_type": "markdown",
   "metadata": {},
   "source": [
    "# Q1"
   ]
  },
  {
   "cell_type": "code",
   "execution_count": 144,
   "metadata": {},
   "outputs": [
    {
     "name": "stdout",
     "output_type": "stream",
     "text": [
      "Q1\n",
      "A 4\n",
      "B 2\n",
      "C 2\n",
      "D 2\n",
      "E 5\n",
      "F 2\n",
      "G 1\n",
      "H 2\n",
      "I 7\n",
      "J 0\n",
      "K 0\n",
      "L 4\n",
      "M 0\n",
      "N 5\n",
      "O 3\n",
      "P 1\n",
      "Q 0\n",
      "R 2\n",
      "S 3\n",
      "T 4\n",
      "U 1\n",
      "V 0\n",
      "W 0\n",
      "X 0\n",
      "Y 1\n",
      "Z 0\n"
     ]
    }
   ],
   "source": [
    "print(\"Q1\")\n",
    "f = shred(\"letter.txt\")\n",
    "for i,j in f.items():\n",
    "    print(i, j)"
   ]
  },
  {
   "cell_type": "markdown",
   "metadata": {},
   "source": [
    "# Q2"
   ]
  },
  {
   "cell_type": "code",
   "execution_count": 145,
   "metadata": {},
   "outputs": [
    {
     "name": "stdout",
     "output_type": "stream",
     "text": [
      "Q2\n",
      "-9.9344\n",
      "-8.4265\n"
     ]
    }
   ],
   "source": [
    "print(\"Q2\")\n",
    "vector = get_parameter_vectors()\n",
    "english = f[\"A\"] * math.log(vector[0][0])\n",
    "spanish = f[\"A\"] * math.log(vector[1][0])\n",
    "print(float(\"%.4f\"%english))\n",
    "print(float(\"%.4f\"%spanish))\n"
   ]
  },
  {
   "cell_type": "markdown",
   "metadata": {},
   "source": [
    "# Q3"
   ]
  },
  {
   "cell_type": "code",
   "execution_count": 146,
   "metadata": {},
   "outputs": [
    {
     "name": "stdout",
     "output_type": "stream",
     "text": [
      "Q3\n",
      "-147.8619\n",
      "-152.4015\n"
     ]
    }
   ],
   "source": [
    "print(\"Q3\")\n",
    "eIndex = 0\n",
    "eValue = 0\n",
    "sIndex = 0\n",
    "sValue = 0\n",
    "\n",
    "for i in f.items():\n",
    "    numValue = i[1] * math.log(vector[0][eIndex])\n",
    "    eValue += numValue\n",
    "    eIndex += 1\n",
    "fEnglish = eValue + math.log(0.6) #english\n",
    "print(format(fEnglish, '.4f'))\n",
    "\n",
    "for j in f.items():\n",
    "    numValue = j[1] * math.log(vector[1][sIndex])\n",
    "    sValue += numValue\n",
    "    sIndex += 1\n",
    "fSpanish = sValue + math.log(0.4) #spanish\n",
    "print(format(fSpanish, '.4f'))"
   ]
  },
  {
   "cell_type": "markdown",
   "metadata": {},
   "source": [
    "# Q4"
   ]
  },
  {
   "cell_type": "code",
   "execution_count": 155,
   "metadata": {},
   "outputs": [
    {
     "name": "stdout",
     "output_type": "stream",
     "text": [
      "Q4\n",
      "0.9894\n"
     ]
    }
   ],
   "source": [
    "print(\"Q4\")\n",
    "pEnglish = 0\n",
    "\n",
    "if fSpanish - fEnglish >= 100:\n",
    "    pEnglish = 0\n",
    "elif fSpanish - fEnglish <= -100:\n",
    "    pEnglish = 1\n",
    "else:\n",
    "    pEnglish = 1/(1 + math.exp(fSpanish - fEnglish))\n",
    "\n",
    "print(format(pEnglish, '.4f'))"
   ]
  }
 ],
 "metadata": {
  "kernelspec": {
   "display_name": "Python 3",
   "language": "python",
   "name": "python3"
  },
  "language_info": {
   "codemirror_mode": {
    "name": "ipython",
    "version": 3
   },
   "file_extension": ".py",
   "mimetype": "text/x-python",
   "name": "python",
   "nbconvert_exporter": "python",
   "pygments_lexer": "ipython3",
   "version": "3.9.6"
  },
  "orig_nbformat": 4
 },
 "nbformat": 4,
 "nbformat_minor": 2
}
